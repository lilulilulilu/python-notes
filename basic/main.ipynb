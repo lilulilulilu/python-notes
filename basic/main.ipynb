{
 "cells": [
  {
   "cell_type": "code",
   "execution_count": null,
   "metadata": {},
   "outputs": [],
   "source": [
    "# generate random int\n",
    "import random\n",
    "a = random.randint(0, 100)"
   ]
  },
  {
   "cell_type": "code",
   "execution_count": 6,
   "metadata": {},
   "outputs": [
    {
     "name": "stdout",
     "output_type": "stream",
     "text": [
      "[(2, 'a', 'c'), (4, 'a', 'b'), (3, 'b', 'c')]\n",
      "(2, 'a', 'c')\n"
     ]
    }
   ],
   "source": [
    "import heapq\n",
    "min_heap = []\n",
    "heapq.heappush(min_heap, (4, 'a', 'b'))\n",
    "heapq.heappush(min_heap, (2, 'a', 'c'))\n",
    "heapq.heappush(min_heap, (3, 'b', 'c'))\n",
    "print(min_heap)\n",
    "\n",
    "print(heapq.heappop(min_heap))"
   ]
  },
  {
   "cell_type": "code",
   "execution_count": 8,
   "metadata": {},
   "outputs": [
    {
     "name": "stdout",
     "output_type": "stream",
     "text": [
      "['a', 'b'] 2.0\n",
      "['b', 'c'] 3.0\n"
     ]
    }
   ],
   "source": [
    "equations = [[\"a\",\"b\"],[\"b\",\"c\"]]\n",
    "values = [2.0, 3.0]\n",
    "\n",
    "for equation, value in zip(equations, values):\n",
    "        print(equation, value)"
   ]
  },
  {
   "cell_type": "code",
   "execution_count": 28,
   "metadata": {},
   "outputs": [
    {
     "name": "stdout",
     "output_type": "stream",
     "text": [
      "None\n",
      "None\n"
     ]
    }
   ],
   "source": [
    "total = []\n",
    "total = total.extend([\"1\"]) #extend return None，不能赋值给total，会导致total变为None\n",
    "total2 =[].extend([\"1\"])\n",
    "print(total)\n",
    "print(total2)"
   ]
  },
  {
   "cell_type": "code",
   "execution_count": 27,
   "metadata": {},
   "outputs": [
    {
     "data": {
      "text/plain": [
       "[1, 2, 3]"
      ]
     },
     "execution_count": 27,
     "metadata": {},
     "output_type": "execute_result"
    }
   ],
   "source": [
    "total = []\n",
    "total.extend([1, 2, 3])\n",
    "total\n",
    "total2 = []."
   ]
  },
  {
   "cell_type": "code",
   "execution_count": 6,
   "metadata": {},
   "outputs": [
    {
     "name": "stdout",
     "output_type": "stream",
     "text": [
      "2\n"
     ]
    },
    {
     "data": {
      "text/plain": [
       "'   '"
      ]
     },
     "execution_count": 6,
     "metadata": {},
     "output_type": "execute_result"
    }
   ],
   "source": [
    "import math\n",
    "a = math.ceil(10/4)\n",
    "\n",
    "b = int(10/4)\n",
    "print(b)\n",
    "\n",
    "\" \" * a"
   ]
  },
  {
   "cell_type": "code",
   "execution_count": 4,
   "metadata": {},
   "outputs": [
    {
     "name": "stdout",
     "output_type": "stream",
     "text": [
      "4 should be indexed at 2\n"
     ]
    }
   ],
   "source": [
    "import bisect\n",
    "\n",
    "a = [1, 2, 4, 4, 5]\n",
    "x = 4\n",
    "\n",
    "# 使用 bisect_left 查找插入点\n",
    "position = bisect.bisect_left(a, x)\n",
    "\n",
    "print(f\"{x} should be indexed at {position}\")\n"
   ]
  },
  {
   "cell_type": "code",
   "execution_count": 6,
   "metadata": {},
   "outputs": [
    {
     "data": {
      "text/plain": [
       "0"
      ]
     },
     "execution_count": 6,
     "metadata": {},
     "output_type": "execute_result"
    }
   ],
   "source": [
    "bisect.bisect_left([], 10)"
   ]
  },
  {
   "cell_type": "code",
   "execution_count": 9,
   "metadata": {},
   "outputs": [
    {
     "name": "stdout",
     "output_type": "stream",
     "text": [
      "3\n",
      "4\n"
     ]
    }
   ],
   "source": [
    "for i in range(3, 5):\n",
    "    print(i)"
   ]
  },
  {
   "cell_type": "code",
   "execution_count": 14,
   "metadata": {},
   "outputs": [
    {
     "data": {
      "text/plain": [
       "True"
      ]
     },
     "execution_count": 14,
     "metadata": {},
     "output_type": "execute_result"
    }
   ],
   "source": [
    "1111111111111111111111155555555555551111111111 > float('-inf')"
   ]
  },
  {
   "cell_type": "code",
   "execution_count": 16,
   "metadata": {},
   "outputs": [
    {
     "name": "stdout",
     "output_type": "stream",
     "text": [
      "[[2, 3], [5, 4], [6, 4], [6, 7]]\n"
     ]
    }
   ],
   "source": [
    "# 定义排序函数\n",
    "def sort_array(arr):\n",
    "    return sorted(arr, key=lambda x: (x[0], x[1]))\n",
    "\n",
    "# 测试数组\n",
    "if __name__ == \"__main__\":\n",
    "    test_array = [[5, 4], [6, 4], [6, 7], [2, 3]]\n",
    "    sorted_array = sort_array(test_array)\n",
    "    print(sorted_array)\n"
   ]
  },
  {
   "cell_type": "code",
   "execution_count": 10,
   "metadata": {},
   "outputs": [
    {
     "name": "stdout",
     "output_type": "stream",
     "text": [
      "Counter({'apple': 3, 'banana': 2, 'orange': 1})\n"
     ]
    }
   ],
   "source": [
    "from collections import Counter\n",
    "\n",
    "# List of items\n",
    "items = ['apple', 'banana', 'apple', 'orange', 'banana', 'apple']\n",
    "\n",
    "# Creating a Counter object\n",
    "item_counts = Counter(items)\n",
    "\n",
    "# Displaying the counts of each item\n",
    "print(item_counts)\n"
   ]
  },
  {
   "cell_type": "code",
   "execution_count": 13,
   "metadata": {},
   "outputs": [
    {
     "name": "stdout",
     "output_type": "stream",
     "text": [
      "1 2\n"
     ]
    }
   ],
   "source": [
    "a = lambda x, y: [x, y]\n",
    "m, n = a(1,2)\n",
    "print(m, n)"
   ]
  }
 ],
 "metadata": {
  "kernelspec": {
   "display_name": "py310",
   "language": "python",
   "name": "python3"
  },
  "language_info": {
   "codemirror_mode": {
    "name": "ipython",
    "version": 3
   },
   "file_extension": ".py",
   "mimetype": "text/x-python",
   "name": "python",
   "nbconvert_exporter": "python",
   "pygments_lexer": "ipython3",
   "version": "3.10.13"
  }
 },
 "nbformat": 4,
 "nbformat_minor": 2
}

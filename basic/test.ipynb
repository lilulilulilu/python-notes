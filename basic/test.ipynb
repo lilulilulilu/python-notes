{
 "cells": [
  {
   "cell_type": "code",
   "execution_count": 3,
   "metadata": {},
   "outputs": [
    {
     "data": {
      "text/plain": [
       "torch.Size([1, 7, 1])"
      ]
     },
     "execution_count": 3,
     "metadata": {},
     "output_type": "execute_result"
    }
   ],
   "source": [
    "import torch\n",
    "l1 = torch.tensor([[[1],[1],[1],[1],[1],[1],[1]]])\n",
    "l1.shape"
   ]
  },
  {
   "cell_type": "code",
   "execution_count": 4,
   "metadata": {},
   "outputs": [
    {
     "name": "stdout",
     "output_type": "stream",
     "text": [
      " i: 1 j: 2\n",
      " i: 1 j: 2\n"
     ]
    }
   ],
   "source": [
    "orange: tuple[int,int] = (1,2)\n",
    "i, j = orange\n",
    "print(f' i: {i} j: {j}')\n",
    "\n",
    "Orange = tuple[int,int]\n",
    "orange: Orange = (1,2)\n",
    "i, j = orange\n",
    "print(f' i: {i} j: {j}')"
   ]
  },
  {
   "cell_type": "code",
   "execution_count": 11,
   "metadata": {},
   "outputs": [
    {
     "name": "stdout",
     "output_type": "stream",
     "text": [
      "[1]\n",
      "[1, 1]\n",
      "[1]\n",
      "[1]\n",
      "[1]\n"
     ]
    }
   ],
   "source": [
    "def fast(items = []):\n",
    "    items.append (1)\n",
    "    return items\n",
    "\n",
    "print(fast())\n",
    "print(fast()) # [1,1]\n",
    "\n",
    "def fast(items=[]):\n",
    "    items = []\n",
    "    items.append(1)\n",
    "    return items\n",
    "\n",
    "print(fast())\n",
    "print(fast())\n",
    "print(fast(3))"
   ]
  },
  {
   "cell_type": "code",
   "execution_count": 13,
   "metadata": {},
   "outputs": [
    {
     "name": "stdout",
     "output_type": "stream",
     "text": [
      "abc123def456yiibai\n"
     ]
    }
   ],
   "source": [
    "keyword = 'abc123def456yiibai'\n",
    "print(keyword[:3] + keyword[3:])"
   ]
  },
  {
   "cell_type": "code",
   "execution_count": 16,
   "metadata": {},
   "outputs": [
    {
     "name": "stdout",
     "output_type": "stream",
     "text": [
      "4\n",
      "[<function multiplexers.<locals>.<listcomp>.<lambda> at 0x7fba64eb6c20>, <function multiplexers.<locals>.<listcomp>.<lambda> at 0x7fba64eb6dd0>, <function multiplexers.<locals>.<listcomp>.<lambda> at 0x7fba64eb6950>, <function multiplexers.<locals>.<listcomp>.<lambda> at 0x7fba64eb7520>]\n",
      "[6, 6, 6, 6]\n"
     ]
    }
   ],
   "source": [
    "def multiplexers():\n",
    "    return [lambda n: index * n for index in range (4)] # 返回的是一个函数列表, 列表里有4个函数\n",
    "\n",
    "print(len(multiplexers())) # 4\n",
    "print(multiplexers())\n",
    "print ([m(2) for m in multiplexers()])"
   ]
  },
  {
   "cell_type": "code",
   "execution_count": 1,
   "metadata": {},
   "outputs": [
    {
     "name": "stdout",
     "output_type": "stream",
     "text": [
      "1\n",
      "2\n",
      "3\n"
     ]
    }
   ],
   "source": [
    "class Node():\n",
    "\tdef __init__(self, val):\n",
    "\t\tself.val = val\n",
    "\t\tself.next = None\n",
    "\n",
    "\n",
    "nums = [1, 2, 3]\n",
    "for n in nums:\n",
    "\tprint(n)\n"
   ]
  },
  {
   "cell_type": "code",
   "execution_count": 1,
   "metadata": {},
   "outputs": [],
   "source": [
    "def format_greeting(name, age):\n",
    "\n",
    "    return \"Hello, my name is {name} and I am {age} years old.\""
   ]
  },
  {
   "cell_type": "code",
   "execution_count": 2,
   "metadata": {},
   "outputs": [
    {
     "data": {
      "text/plain": [
       "'Hello, my name is {name} and I am {age} years old.'"
      ]
     },
     "execution_count": 2,
     "metadata": {},
     "output_type": "execute_result"
    }
   ],
   "source": [
    "format_greeting(\"Alice\", 30)"
   ]
  }
 ],
 "metadata": {
  "kernelspec": {
   "display_name": "base",
   "language": "python",
   "name": "python3"
  },
  "language_info": {
   "codemirror_mode": {
    "name": "ipython",
    "version": 3
   },
   "file_extension": ".py",
   "mimetype": "text/x-python",
   "name": "python",
   "nbconvert_exporter": "python",
   "pygments_lexer": "ipython3",
   "version": "3.10.13"
  }
 },
 "nbformat": 4,
 "nbformat_minor": 2
}

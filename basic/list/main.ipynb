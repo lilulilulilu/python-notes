{
 "cells": [
  {
   "cell_type": "code",
   "execution_count": null,
   "metadata": {},
   "outputs": [],
   "source": [
    "# 创建空数组，添加元素，删除元素，获取数组长度，数组反转，数组排序\n",
    "l1 = []\n",
    "l1.append(1)\n",
    "l1.append(4)\n",
    "l1.append(2)\n",
    "l1.append(3)\n",
    "l1.insert(1, 5) # l1=[1, 5, 4, 2]，在索引1处插入5\n",
    "\n",
    "print(\"l1.index(2)\", l1.index(2)) # 2，获取元素2的索引\n",
    "\n",
    "# 删除\n",
    "l1.remove(2) # 删除值为2的元素,返回None，时间复杂度为O(n)\n",
    "e = l1.pop(1) # 删除索引为1的元素,时间复杂度为O(n)\n",
    "print(e)\n",
    "print(\"l1\", l1) # [1, 3]，删除元素4\n",
    "e = l1.pop() # e=3, l1=[1, 4, 2]，删除最后一个元素\n",
    "\n",
    "# 改\n",
    "l1.reverse() # l1=[2, 4, 5, 1] , 原地数组反转\n",
    "l1.sort() # l1=[1, 2, 4, 5]，原地数组排序\n",
    "\n",
    "# 新生成数组\n",
    "l1 = [1, 4, 2]\n",
    "l3 = sorted(l1) # [1, 2, 4]，返回排序后的数组，原数组不变\n",
    "print(l1) # [1, 4, 2]\n",
    "print(l3) # [1, 2, 4]"
   ]
  },
  {
   "cell_type": "code",
   "execution_count": 3,
   "metadata": {},
   "outputs": [
    {
     "data": {
      "text/plain": [
       "7"
      ]
     },
     "execution_count": 3,
     "metadata": {},
     "output_type": "execute_result"
    }
   ],
   "source": [
    "[2,5,7].pop(2) # 删除值为2的元素"
   ]
  },
  {
   "cell_type": "code",
   "execution_count": null,
   "metadata": {},
   "outputs": [],
   "source": [
    "l1 = [1,2, 3]\n",
    "print(l1.extend([4, 5])) # l1=[1, 2, 3, 4, 5]，在数组末尾添加另一个数组\n",
    "\n",
    "l2 = [4, 5]\n",
    "l3 = l1.update(l2) # l1=[1, 2, 3, 4, 5]，在数组末尾添加另一个数组\n",
    "l3"
   ]
  },
  {
   "cell_type": "code",
   "execution_count": null,
   "metadata": {},
   "outputs": [],
   "source": [
    "l = [0]*3\n",
    "l.append('a')\n",
    "l[0] = 'b' # 时间复杂度O(1)，a没了\n",
    "l[2] = 'c' # 如果l=[], 会报错IndexError: list assignment index out of range\n",
    "l"
   ]
  },
  {
   "cell_type": "code",
   "execution_count": null,
   "metadata": {},
   "outputs": [],
   "source": [
    "reversed([1, 2, 3]) # <list_reverseiterator object at 0x7f8b1c1b3d30>，返回一个反转迭代器\n",
    "print([1, 2, 3].reverse()) # None，原地数组反转"
   ]
  },
  {
   "cell_type": "code",
   "execution_count": null,
   "metadata": {},
   "outputs": [],
   "source": [
    "# sort\n",
    "arr = [\"bob\", \"alice\", \"jane\", \"Joe\"]\n",
    "arr.sort() # 按字母顺序排序 arr=['Joe', 'alice', 'bob', 'jane']\n",
    "\n",
    "arr.sort(key=lambda x: len(x), reverse=True) # 按字符串长度排序 arr= ['Joe', 'bob', 'jane', 'alice']\n",
    "print(arr)\n",
    "\n",
    "l4 = [\n",
    "    (\"Mike\", \"Thomson\", 20, \"M\"),\n",
    "    (\"Robert\", \"Bustle\", 32, \"M\"),\n",
    "    (\"Andria\", \"Bustle\", 30, \"F\")\n",
    "]\n",
    "l5 = sorted(l4, key=lambda x: x[2], reverse=True)\n",
    "print(l5)"
   ]
  },
  {
   "cell_type": "code",
   "execution_count": null,
   "metadata": {},
   "outputs": [],
   "source": [
    "# 遍历\n",
    "nums = [5, 2, 3, 4, 1]\n",
    "# 1.with index and value\n",
    "print(\"enumerate(nums):\")\n",
    "for i, val in enumerate(nums):\n",
    "    print(i, val)\n",
    "\n",
    "# 2.using index\n",
    "# to loop through the array from i to len(nums) [i = 0, i = len(nums))\n",
    "print(\"range(len(nums)):\")   \n",
    "for i in range(len(nums)):\n",
    "    print(i, nums[i])\n",
    "\n",
    "print(\"reversed range:\")   \n",
    "for i in range(len(nums)-1, -1, -1):\n",
    "    print(i, nums[i])\n",
    "\n",
    "# 3.without index\n",
    "print(\"without index:\")\n",
    "for n in nums:\n",
    "  print(n)\n",
    "  \n",
    "# 4.从两头向中间遍历\n",
    "print(\"从两头向中间遍历:\")\n",
    "i = 0\n",
    "j = len(nums) -1\n",
    "while i < j:\n",
    "    print(nums[i], nums[j])\n",
    "    i += 1\n",
    "    j -= 1\n",
    "print(nums[i])   "
   ]
  },
  {
   "cell_type": "code",
   "execution_count": null,
   "metadata": {},
   "outputs": [],
   "source": [
    "# 遍历\n",
    "nums = [5, 2, 3, 4, 1]\n",
    "# 1.with index and value\n",
    "print(\"enumerate(nums):\")\n",
    "print(list(enumerate(nums))) # [(0, 5), (1, 2), (2, 3), (3, 4), (4, 1)]\n",
    "print(set(enumerate(nums))) # {(0, 5), (1, 2), (2, 3), (3, 4), (4, 1)}\n",
    "d = dict(enumerate(nums))\n",
    "print(d) # {0: 5, 1: 2, 2: 3, 3: 4, 4: 1}\n",
    "d[0] = 10\n",
    "print(d) # {0: 10, 1: 2, 2: 3, 3: 4, 4: 1}\n",
    "\n",
    "nums = [5, 2, 3, 4, 1]\n",
    "for i, val in enumerate(nums):\n",
    "    print(i, val)"
   ]
  },
  {
   "cell_type": "code",
   "execution_count": null,
   "metadata": {},
   "outputs": [],
   "source": [
    "# Demonstrating the memory efficiency of the enumerate function in Python\n",
    "\n",
    "import sys\n",
    "\n",
    "# Define a list\n",
    "nums = [5, 2, 3, 4, 1, 8, 9, 0, 6, 7, 8]\n",
    "\n",
    "# Create an enumerate object from the list\n",
    "enumerated = enumerate(nums)\n",
    "\n",
    "# Check the memory usage of the enumerate object\n",
    "print(\"Memory used by the enumerate object:\", sys.getsizeof(enumerated), \"bytes\")\n",
    "\n",
    "# Iterate over the enumerate object and print each index and value\n",
    "for index, value in enumerated:\n",
    "    print(index, value)\n",
    "\n",
    "# 中文解释：\n",
    "# 这个示例演示了 Python 中 enumerate 函数的内存效率。我们定义了一个列表 nums，并使用 enumerate 函数对其进行枚举，从而生成一个迭代器。\n",
    "# 我们使用 sys.getsizeof 函数检查 enumerate 对象的内存使用量，通常这个大小非常小，因为 enumerate 只保存了必要的迭代状态。\n",
    "# 然后我们迭代 enumerate 对象，打印出每个元素的索引和值。\n"
   ]
  },
  {
   "cell_type": "code",
   "execution_count": null,
   "metadata": {},
   "outputs": [],
   "source": [
    "# cut array\n",
    "nums =  [1, 2, 3, 4, 5]\n",
    "print(nums[1:2]) # output:2 截取从下标1到下标为2的元素，不包括下标为2的元素\n",
    "\n",
    "# create a 2D array\n",
    "row = 3\n",
    "column = 4\n",
    "grid = [[0]*column]*row\n",
    "print(grid)\n",
    "\n",
    "# unpacking\n",
    "a, b, c = [1, 2, 3]"
   ]
  },
  {
   "cell_type": "code",
   "execution_count": null,
   "metadata": {},
   "outputs": [],
   "source": [
    "A = [1, 2, 3]\n",
    "B = [2, 3, 4]\n",
    "# A,B 中相同元素： \n",
    "print(set(A)&set(B)) # output: {2, 3}\n",
    "# A,B 中不同元素:  \n",
    "print(set(A)^set(B)) # output: {1, 4}"
   ]
  },
  {
   "cell_type": "code",
   "execution_count": null,
   "metadata": {},
   "outputs": [],
   "source": [
    "list1 = [1,2]\n",
    "list2 = [3,2]\n",
    "print(list1 + list2)\n",
    "print(set(list1) & set(list2)) # 交集\n",
    "print(set(list1) - set(list2)) #差集\n",
    "print(set(list1).union(set(list2))) #并集"
   ]
  },
  {
   "cell_type": "code",
   "execution_count": null,
   "metadata": {},
   "outputs": [],
   "source": [
    "# dict转成list或者set\n",
    "d = {'a': 2, 'b': 4}\n",
    "print(set(d)) # {'a', 'b'}\n",
    "print(set(d.keys())) # {'a', 'b'}\n",
    "print(set(d.items()))   # {('a', 2), ('b', 4)}\n",
    "print(list(d)) #['a', 'b']\n",
    "print(d.items()) #dict_items([('a', 2), ('b', 4)])"
   ]
  },
  {
   "cell_type": "code",
   "execution_count": null,
   "metadata": {},
   "outputs": [],
   "source": [
    "# zip\n",
    "l1 = ['a', 'b', 'c']\n",
    "l2 = [1, 2, 3]\n",
    "l3 = [False, True, False]\n",
    "\n",
    "records = zip(l1, l2, l3) # zip是个迭代器，只是指向某一个元素的指针\n",
    "\n",
    "print(list(records))\n",
    "print(list(records)) # records已经被消费了，所以为空\n",
    "\n",
    "for record in records:\n",
    "    v1, v2, v3 = record\n",
    "    print(f'record:{record}, v1:{v1}, v2:{v2}, v3:{v3}')"
   ]
  },
  {
   "cell_type": "code",
   "execution_count": null,
   "metadata": {},
   "outputs": [],
   "source": [
    "l = [\"123\"]\n",
    "l.extend([\"222\"])\n",
    "line = l\n",
    "\n",
    "sum([len(word) for word in line])\n",
    "\n",
    "\n",
    "# 判断一个数能不能被另一个数整除\n",
    "a = 10\n",
    "b = 2\n",
    "print(a % b == 0) # False\n",
    "\n",
    "a/b"
   ]
  },
  {
   "cell_type": "code",
   "execution_count": null,
   "metadata": {},
   "outputs": [],
   "source": []
  },
  {
   "cell_type": "code",
   "execution_count": null,
   "metadata": {},
   "outputs": [],
   "source": [
    "l = []\n",
    "l.append('a')\n",
    "l[0] = 'b' # 时间复杂度O(1)\n",
    "l.remove('b') # 时间复杂度O(n)，删除列表中第一次出现的value\n",
    "l.extend(['d', 'e']) # 添加多个元素\n",
    "l.pop() # 删除最后一个元素，in constant time\n",
    "\n",
    "\n",
    "i = l.index('d') # 返回元素的索引 0， 如果元素不存在，抛出异常ValueError，时间复杂度O(n)\n",
    "print(i)\n",
    "l.insert(1, 'bb') # 在指定位置插入元素\n",
    "\n",
    "l1 = sorted(l, key=lambda x: x, reverse=False) # 排序，返回一个新的list. []\n",
    "print(\"sorted\",l)\n",
    "l.sort() # 排序，原list改变\n",
    "print(l1)\n",
    "\n",
    "map_it = map(lambda x: x * 2, [1, 2, 3]) # 返回一个迭代器\n",
    "l2 = list(map_it) \n",
    "print(l2) # [2, 4, 6]\n",
    "filter_it = filter(lambda x: x > 0, [-1, 0, 1, 2]) # 返回一个迭代器\n",
    "l3 = list(filter_it) # 返回一个迭代器\n",
    "print(l3)"
   ]
  },
  {
   "cell_type": "code",
   "execution_count": null,
   "metadata": {},
   "outputs": [],
   "source": [
    "filter_it = filter(lambda x: x > 0, [-1, 0, 1, 2]) # 返回一个迭代器\n",
    "list(filter_it)"
   ]
  },
  {
   "cell_type": "code",
   "execution_count": null,
   "metadata": {},
   "outputs": [],
   "source": [
    "import random\n",
    "l1 = [1,2,3,4,5]\n",
    "# random.shuffle(l1) #l1被打乱顺序\n",
    "l1 = [2, 1, 4, 5, 3]\n",
    "l2 = list(map(lambda x: str(x), l1)) #把每个元素变成str类型\n",
    "print(l1)\n",
    "s = ''.join(l2) # '21453' l1里的元素必须都是str类型，否则会报错\n",
    "s"
   ]
  },
  {
   "cell_type": "code",
   "execution_count": null,
   "metadata": {},
   "outputs": [],
   "source": [
    "s = \"abc123\"\n",
    "c_s = set([c for c in s if 'a' <= c <= 'z'])\n",
    "c_s"
   ]
  },
  {
   "cell_type": "code",
   "execution_count": null,
   "metadata": {},
   "outputs": [],
   "source": [
    "def f(x):\n",
    "    l = [1,2,3]\n",
    "    i = 3\n",
    "    def f2():\n",
    "        i = 0\n",
    "        print(\"f2 i\",i) # 0\n",
    "        l.append(4)\n",
    "        \n",
    "    f2()\n",
    "    print(\"f1 i\",i) # 3\n",
    "    print(\"f1 l\",l) # [1, 2, 3, 4]\n",
    "    \n",
    "f(1)"
   ]
  },
  {
   "cell_type": "code",
   "execution_count": null,
   "metadata": {},
   "outputs": [],
   "source": [
    "for m in range(2, 2, 1):\n",
    "    print(m)"
   ]
  },
  {
   "cell_type": "code",
   "execution_count": null,
   "metadata": {},
   "outputs": [],
   "source": [
    "\"1 2 3\".replace(\" \", \"\")"
   ]
  },
  {
   "cell_type": "code",
   "execution_count": null,
   "metadata": {},
   "outputs": [],
   "source": [
    "# 给字符串数组每个字符串加一个共同前缀\n",
    "l = [\"a\", \"b\", \"c\"]\n",
    "l = [f\"prefix_{s}\" for s in l]\n",
    "l\n",
    "totalNumStr = []\n",
    "if totalNumStr:\n",
    "    print(\"not empty\")\n",
    "else:\n",
    "    print(\"empty\")\n"
   ]
  },
  {
   "cell_type": "code",
   "execution_count": null,
   "metadata": {},
   "outputs": [],
   "source": [
    "# 注意事项： \n",
    "total = []\n",
    "total = total.extend([\"1\"]) #extend return None，不能赋值给total，会导致total变为None\n",
    "total2 =[].extend([\"1\"])\n",
    "print(total)\n",
    "print(total2)"
   ]
  },
  {
   "cell_type": "code",
   "execution_count": null,
   "metadata": {},
   "outputs": [],
   "source": [
    "result = [[0,0,0],[0,0,0]]\n",
    "result = [[-1,-1,2],[-1,0,1],[-1,0,1]]\n",
    "\n",
    "result = set([tuple(sorted(arr)) for arr in result])\n",
    "print(len(result))\n",
    "result = [list(arr) for arr in result]\n",
    "a = [-1,0,1]\n",
    "b = [-1,-1,2]\n",
    "print(a in result)\n",
    "print(b in result)\n",
    "print(result)\n",
    "\n",
    "print(sorted([3, 2, 4]))"
   ]
  },
  {
   "cell_type": "code",
   "execution_count": null,
   "metadata": {},
   "outputs": [],
   "source": [
    "s = set()\n",
    "s.add((3,4))\n",
    "s.add((3,3))\n",
    "s.pop()\n"
   ]
  },
  {
   "cell_type": "code",
   "execution_count": null,
   "metadata": {},
   "outputs": [],
   "source": [
    "list(\"123\")\n",
    "''.join(['1', '2', '3']) # 把字符串数组拼接起来\n"
   ]
  },
  {
   "cell_type": "code",
   "execution_count": null,
   "metadata": {},
   "outputs": [],
   "source": [
    "l = [1,2,3]\n",
    "l.append('a') # 时间复杂度O(1)\n",
    "l.insert(1, 'b') # 在指定位置插入元素\n",
    "l"
   ]
  },
  {
   "cell_type": "code",
   "execution_count": null,
   "metadata": {},
   "outputs": [],
   "source": [
    "row = 3\n",
    "column = 4\n",
    "arr = [[0]*column for _ in range(row)]\n",
    "arr[0][0]=1\n",
    "arr"
   ]
  },
  {
   "cell_type": "code",
   "execution_count": null,
   "metadata": {},
   "outputs": [],
   "source": [
    "s = set([1,1,2,3])\n",
    "s"
   ]
  },
  {
   "cell_type": "code",
   "execution_count": null,
   "metadata": {},
   "outputs": [],
   "source": [
    "s.remove(1)\n",
    "s"
   ]
  },
  {
   "cell_type": "code",
   "execution_count": null,
   "metadata": {},
   "outputs": [],
   "source": [
    "n = 4\n",
    "l = [[i+1] for i in range(n)]\n",
    "l[0].append(2)\n",
    "l[0].extend([3,4])\n",
    "l"
   ]
  },
  {
   "cell_type": "code",
   "execution_count": null,
   "metadata": {},
   "outputs": [],
   "source": [
    "s = {1,2,3,4}\n",
    "firsts = [[i] for i in s] \n",
    "l1 = [0]\n",
    "l1.extend([1,2])\n",
    "l1"
   ]
  },
  {
   "cell_type": "code",
   "execution_count": null,
   "metadata": {},
   "outputs": [],
   "source": [
    "l = [1]+[4]\n",
    "l"
   ]
  },
  {
   "cell_type": "code",
   "execution_count": null,
   "metadata": {},
   "outputs": [],
   "source": [
    "s1 = set()\n",
    "s2 = set()\n",
    "s1.add(1)\n",
    "s1.add(2)\n",
    "\n",
    "s2.add(4)\n",
    "s2.add(5)\n",
    "s1.update(s2)\n",
    "\n"
   ]
  },
  {
   "cell_type": "code",
   "execution_count": null,
   "metadata": {},
   "outputs": [],
   "source": [
    "for x, y in [(1,2), (1,2)]:\n",
    "    print(x,y)"
   ]
  },
  {
   "cell_type": "code",
   "execution_count": null,
   "metadata": {},
   "outputs": [],
   "source": [
    "l = [1,2,3,4]\n",
    "max(l[2:3])"
   ]
  },
  {
   "cell_type": "code",
   "execution_count": null,
   "metadata": {},
   "outputs": [],
   "source": [
    "a, b = 0, 1\n",
    "\n",
    "def fibonacci(n):\n",
    "    for _ in range(n):\n",
    "        a, b = b, a + b\n",
    "    return a\n",
    "\n",
    "print(fibonacci(4))"
   ]
  },
  {
   "cell_type": "code",
   "execution_count": 10,
   "metadata": {},
   "outputs": [
    {
     "name": "stdout",
     "output_type": "stream",
     "text": [
      "[-10, -4, -4, -2, -2, 0]\n",
      "3\n"
     ]
    },
    {
     "data": {
      "text/plain": [
       "-2.0"
      ]
     },
     "execution_count": 10,
     "metadata": {},
     "output_type": "execute_result"
    }
   ],
   "source": [
    "def centered_average(nums):\n",
    "  n = len(nums)\n",
    "  nums.sort()\n",
    "  print(nums)\n",
    "  mid = n//2\n",
    "  print(mid)\n",
    "  if n & 1 == 1:\n",
    "    return nums[mid]\n",
    "  else:\n",
    "    return (nums[mid] + nums[mid+1]) / 2\n",
    "\n",
    "centered_average([-10, -4, -2, -4, -2, 0])"
   ]
  }
 ],
 "metadata": {
  "kernelspec": {
   "display_name": "py310",
   "language": "python",
   "name": "python3"
  },
  "language_info": {
   "codemirror_mode": {
    "name": "ipython",
    "version": 3
   },
   "file_extension": ".py",
   "mimetype": "text/x-python",
   "name": "python",
   "nbconvert_exporter": "python",
   "pygments_lexer": "ipython3",
   "version": "3.10.13"
  }
 },
 "nbformat": 4,
 "nbformat_minor": 2
}

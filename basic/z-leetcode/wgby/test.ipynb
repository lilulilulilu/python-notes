{
 "cells": [
  {
   "cell_type": "code",
   "execution_count": 1,
   "metadata": {},
   "outputs": [
    {
     "name": "stdout",
     "output_type": "stream",
     "text": [
      "[1, 2, 6, 7]\n",
      "[3, 5, 8, 13]\n",
      "[4, 9, 12, 14]\n",
      "[10, 11, 15, 16]\n"
     ]
    }
   ],
   "source": [
    "def generate_matrix(n):\n",
    "    matrix = [[0] * n for _ in range(n)]\n",
    "    num = 1\n",
    "    slopes = 2 * n - 1\n",
    "    up = 1\n",
    "    for slope in range(slopes):\n",
    "        if up:\n",
    "            for i in range(n-1, -1, -1):\n",
    "                for j in range(n-1, -1, -1):\n",
    "                    if i + j == slope:\n",
    "                        matrix[i][j] = num\n",
    "                        num += 1\n",
    "            up = 0\n",
    "        else:\n",
    "            for i in range(n):\n",
    "                for j in range(n):\n",
    "                    if i + j == slope:\n",
    "                        matrix[i][j] = num\n",
    "                        num += 1\n",
    "            up = 1\n",
    "    return matrix\n",
    "\n",
    "for row in generate_matrix(4):\n",
    "    print(row)"
   ]
  }
 ],
 "metadata": {
  "kernelspec": {
   "display_name": "py310",
   "language": "python",
   "name": "python3"
  },
  "language_info": {
   "codemirror_mode": {
    "name": "ipython",
    "version": 3
   },
   "file_extension": ".py",
   "mimetype": "text/x-python",
   "name": "python",
   "nbconvert_exporter": "python",
   "pygments_lexer": "ipython3",
   "version": "3.10.13"
  }
 },
 "nbformat": 4,
 "nbformat_minor": 2
}

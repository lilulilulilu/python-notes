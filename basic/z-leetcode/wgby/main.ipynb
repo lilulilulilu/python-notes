{
 "cells": [
  {
   "cell_type": "code",
   "execution_count": 11,
   "metadata": {},
   "outputs": [
    {
     "name": "stdout",
     "output_type": "stream",
     "text": [
      "9 20 20 20 20 20 20 20 20 20\n"
     ]
    }
   ],
   "source": [
    "from collections import Counter\n",
    "\n",
    "\n",
    "def countShowTimes(a: int, b: int) -> list[int]:\n",
    "    result = [0] * 10\n",
    "\n",
    "    for num in range(a, b + 1):\n",
    "        s = str(num)\n",
    "        for c in s:\n",
    "            i = int(c)\n",
    "            result[i] += 1\n",
    "\n",
    "    return result\n",
    "\n",
    "result = countShowTimes(1, 99)\n",
    "print(\" \".join(map(str, result)))\n"
   ]
  },
  {
   "cell_type": "code",
   "execution_count": 5,
   "metadata": {},
   "outputs": [
    {
     "name": "stdout",
     "output_type": "stream",
     "text": [
      "9 20 20 20 20 20 20 20 20 20\n"
     ]
    }
   ],
   "source": [
    "from collections import Counter\n",
    "\n",
    "def countShowTimes(a: int, b: int) -> list[int]:\n",
    "    result = Counter(''.join(map(str, range(a, b + 1))))\n",
    "    return [result[str(i)] for i in range(10)]\n",
    "\n",
    "\n",
    "result = countShowTimes(1, 99)\n",
    "print(\" \".join(map(str, result)))"
   ]
  },
  {
   "cell_type": "code",
   "execution_count": 6,
   "metadata": {},
   "outputs": [
    {
     "name": "stdout",
     "output_type": "stream",
     "text": [
      "9 20 20 20 20 20 20 20 20 20\n"
     ]
    }
   ],
   "source": [
    "from collections import Counter\n",
    "\n",
    "def countShowTimes(a: int, b: int) -> list[int]:\n",
    "    result = Counter()\n",
    "    for number in range(a, b + 1):\n",
    "        result.update(str(number))\n",
    "    return [result[str(i)] for i in range(10)]\n",
    "\n",
    "result = countShowTimes(1, 99)\n",
    "print(\" \".join(map(str, result)))"
   ]
  },
  {
   "cell_type": "code",
   "execution_count": 13,
   "metadata": {},
   "outputs": [
    {
     "name": "stdout",
     "output_type": "stream",
     "text": [
      "9 20 20 20 20 20 20 20 20 20\n"
     ]
    }
   ],
   "source": [
    "def countShowTimes(a: int, b: int) -> list[int]:\n",
    "    def count(n: int) -> list[int]:\n",
    "        count = [0] * 10\n",
    "        i = 1\n",
    "        while n >= i:\n",
    "            divider = i * 10\n",
    "            count[0] -= i\n",
    "            for digit in range(10):\n",
    "                count[digit] += (n // divider) * i + min(max((n % divider) - digit * i + 1, 0), i)\n",
    "            i *= 10\n",
    "        return count\n",
    "\n",
    "    return [b - a for a, b in zip(count(a - 1), count(b))]\n",
    "\n",
    "result = countShowTimes(1, 99)\n",
    "print(\" \".join(map(str, result)))"
   ]
  },
  {
   "cell_type": "code",
   "execution_count": 9,
   "metadata": {},
   "outputs": [
    {
     "data": {
      "text/plain": [
       "'\\n输入n，打印一个n*n的蛇型矩阵\\n例如：n = 4\\n打印：\\n1 2 6 7\\n3 5 8 13\\n4 9 12 14\\n10 11 15 16\\n'"
      ]
     },
     "execution_count": 9,
     "metadata": {},
     "output_type": "execute_result"
    }
   ],
   "source": [
    "'''\n",
    "输入n，打印一个n*n的蛇型矩阵\n",
    "例如：n = 4\n",
    "打印：\n",
    "1 2 6 7\n",
    "3 5 8 13\n",
    "4 9 12 14\n",
    "10 11 15 16\n",
    "'''"
   ]
  },
  {
   "cell_type": "code",
   "execution_count": 1,
   "metadata": {},
   "outputs": [
    {
     "name": "stdout",
     "output_type": "stream",
     "text": [
      "1 2 3 4 \n",
      "12 13 14 5 \n",
      "11 16 15 6 \n",
      "10 9 8 7 \n"
     ]
    }
   ],
   "source": [
    "def print_snake_matrix(n):\n",
    "    matrix = [[0]*n for _ in range(n)]\n",
    "    count = 1\n",
    "    for layer in range((n + 1) // 2):\n",
    "        # 从左到右\n",
    "        for i in range(layer, n - layer):\n",
    "            matrix[layer][i] = count\n",
    "            count += 1\n",
    "        # 从上到下\n",
    "        for i in range(layer + 1, n - layer):\n",
    "            matrix[i][n - layer - 1] = count\n",
    "            count += 1\n",
    "        # 从右到左\n",
    "        for i in range(layer + 1, n - layer):\n",
    "            matrix[n - layer - 1][n - i - 1] = count\n",
    "            count += 1\n",
    "        # 从下到上\n",
    "        for i in range(layer + 1, n - layer - 1):\n",
    "            matrix[n - i - 1][layer] = count\n",
    "            count += 1\n",
    "\n",
    "    # 打印矩阵\n",
    "    for i in range(n):\n",
    "        for j in range(n):\n",
    "            print(matrix[i][j], end=' ')\n",
    "        print()\n",
    "\n",
    "print_snake_matrix(4)"
   ]
  }
 ],
 "metadata": {
  "kernelspec": {
   "display_name": "py310",
   "language": "python",
   "name": "python3"
  },
  "language_info": {
   "codemirror_mode": {
    "name": "ipython",
    "version": 3
   },
   "file_extension": ".py",
   "mimetype": "text/x-python",
   "name": "python",
   "nbconvert_exporter": "python",
   "pygments_lexer": "ipython3",
   "version": "3.10.13"
  }
 },
 "nbformat": 4,
 "nbformat_minor": 2
}

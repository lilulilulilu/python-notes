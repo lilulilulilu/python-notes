{
 "cells": [
  {
   "cell_type": "code",
   "execution_count": 1,
   "metadata": {},
   "outputs": [
    {
     "name": "stdout",
     "output_type": "stream",
     "text": [
      "12\n"
     ]
    },
    {
     "data": {
      "text/plain": [
       "'\\n逻辑核心数和物理核心数是衡量中央处理器（CPU）性能的两个不同指标：\\n\\n物理核心数：物理核心数是指CPU中实际存在的处理核心的数量。每个物理核心能够独立执行计算任务，因此，物理核心数越多，CPU同时处理多任务的能力越强。物理核心也被称为CPU核心或硬核心。\\n\\n逻辑核心数：逻辑核心数是通过技术如超线程（Intel的Hyper-Threading技术）实现的，它允许每个物理核心模拟出两个或更多的逻辑核心。这意味着操作系统和应用程序可以像对待独立的物理核心一样对待这些逻辑核心，从而提高多任务处理的效率。逻辑核心数通常是物理核心数的两倍或更多，这取决于CPU的设计和超线程技术的实现。\\n\\n总的来说，物理核心数反映了CPU中实际核心的数量，而逻辑核心数则是通过软件技术模拟出来的，旨在提高CPU处理多任务的能力。在超线程技术下，一个物理核心可以被操作系统视为两个或更多的逻辑核心，从而在一定程度上提高了计算效率。\\n(py310) (base) qqli@192 main % sysctl -n hw.physicalcpu\\n6\\n(py310) (base) qqli@192 main % sysctl -n hw.logicalcpu\\n12\\n\\n'"
      ]
     },
     "execution_count": 1,
     "metadata": {},
     "output_type": "execute_result"
    }
   ],
   "source": [
    "import os\n",
    "\n",
    "print(os.cpu_count())\n",
    "\n",
    "'''\n",
    "逻辑核心数和物理核心数是衡量中央处理器（CPU）性能的两个不同指标：\n",
    "\n",
    "物理核心数：物理核心数是指CPU中实际存在的处理核心的数量。每个物理核心能够独立执行计算任务，因此，物理核心数越多，CPU同时处理多任务的能力越强。物理核心也被称为CPU核心或硬核心。\n",
    "\n",
    "逻辑核心数：逻辑核心数是通过技术如超线程（Intel的Hyper-Threading技术）实现的，它允许每个物理核心模拟出两个或更多的逻辑核心。这意味着操作系统和应用程序可以像对待独立的物理核心一样对待这些逻辑核心，从而提高多任务处理的效率。逻辑核心数通常是物理核心数的两倍或更多，这取决于CPU的设计和超线程技术的实现。\n",
    "\n",
    "总的来说，物理核心数反映了CPU中实际核心的数量，而逻辑核心数则是通过软件技术模拟出来的，旨在提高CPU处理多任务的能力。在超线程技术下，一个物理核心可以被操作系统视为两个或更多的逻辑核心，从而在一定程度上提高了计算效率。\n",
    "(py310) (base) qqli@192 main % sysctl -n hw.physicalcpu\n",
    "6\n",
    "(py310) (base) qqli@192 main % sysctl -n hw.logicalcpu\n",
    "12\n",
    "\n",
    "'''"
   ]
  },
  {
   "cell_type": "code",
   "execution_count": null,
   "metadata": {},
   "outputs": [],
   "source": [
    "futures = [1,2,3] \n",
    "print(futures)\n",
    "print(*futures)"
   ]
  }
 ],
 "metadata": {
  "kernelspec": {
   "display_name": "py310",
   "language": "python",
   "name": "python3"
  },
  "language_info": {
   "codemirror_mode": {
    "name": "ipython",
    "version": 3
   },
   "file_extension": ".py",
   "mimetype": "text/x-python",
   "name": "python",
   "nbconvert_exporter": "python",
   "pygments_lexer": "ipython3",
   "version": "3.10.13"
  }
 },
 "nbformat": 4,
 "nbformat_minor": 2
}
